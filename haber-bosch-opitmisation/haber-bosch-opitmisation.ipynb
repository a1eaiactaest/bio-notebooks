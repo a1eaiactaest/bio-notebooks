{
 "cells": [
  {
   "cell_type": "code",
   "execution_count": 1,
   "id": "e2c89717",
   "metadata": {},
   "outputs": [],
   "source": [
    "import numpy as np\n",
    "import scipy\n",
    "import matplotlib.pyplot as plt\n",
    "import math"
   ]
  },
  {
   "cell_type": "markdown",
   "id": "cd425e65",
   "metadata": {},
   "source": [
    "Task 1\n",
    "====\n",
    "Write a function that can determine the number of ammonia produced at equilibrum for a given set of temperature and pressure conditions.\n",
    "\n",
    "Example values:\n",
    "\n",
    "| Temperature, T (K) | Pressure, p (atm) | delta_H_T  | delta_S  | Equilibrium constant, K | Moles Ammonia, y |\n",
    "|--------------------|-------------------|------------|----------|-------------------------|------------------|\n",
    "| 298                | 1                 | -91873.247 | -198.068 | 572920.561              | 1.936            |"
   ]
  },
  {
   "cell_type": "code",
   "execution_count": 57,
   "id": "da8a80f8",
   "metadata": {},
   "outputs": [
    {
     "data": {
      "text/plain": [
       "-91873.24705336583"
      ]
     },
     "execution_count": 57,
     "metadata": {},
     "output_type": "execute_result"
    }
   ],
   "source": [
    "def calc_delta_H(T):\n",
    "  return (405000/T)-55.169*T + 0.024928*(T**2)-6.587*(10**(-7))*(T**3)-78988.22\n",
    "\n",
    "calc_delta_H(298)"
   ]
  },
  {
   "cell_type": "code",
   "execution_count": 58,
   "id": "3da6e0fe",
   "metadata": {},
   "outputs": [
    {
     "data": {
      "text/plain": [
       "-198.0682982199486"
      ]
     },
     "execution_count": 58,
     "metadata": {},
     "output_type": "execute_result"
    }
   ],
   "source": [
    "def calc_delta_S(T):\n",
    "  return -55.169*(math.log(T)) + 0.049856*T + 202500/T**2 - 9.88*10**(-7) * T**2 + 99.185\n",
    "\n",
    "calc_delta_S(298)"
   ]
  },
  {
   "cell_type": "code",
   "execution_count": 59,
   "id": "428c362f",
   "metadata": {},
   "outputs": [
    {
     "data": {
      "text/plain": [
       "-32848.894183821154"
      ]
     },
     "execution_count": 59,
     "metadata": {},
     "output_type": "execute_result"
    }
   ],
   "source": [
    "def calc_delta_G(T):\n",
    "  return calc_delta_H(T) - (T*calc_delta_S(T))\n",
    "\n",
    "calc_delta_G(298)"
   ]
  },
  {
   "cell_type": "code",
   "execution_count": 64,
   "id": "6fe5c059",
   "metadata": {
    "scrolled": true
   },
   "outputs": [
    {
     "data": {
      "text/plain": [
       "572646.5424848114"
      ]
     },
     "execution_count": 64,
     "metadata": {},
     "output_type": "execute_result"
    }
   ],
   "source": [
    "def calc_K(T):\n",
    "  R = 8.3143 # Gas constant \n",
    "  ln_K = calc_delta_G(T)/(-R*T)\n",
    "  K = math.e**ln_K\n",
    "  return K\n",
    "\n",
    "calc_K(298)"
   ]
  },
  {
   "cell_type": "code",
   "execution_count": 66,
   "id": "7bafa473",
   "metadata": {},
   "outputs": [
    {
     "data": {
      "text/plain": [
       "0.2834582443839031"
      ]
     },
     "execution_count": 66,
     "metadata": {},
     "output_type": "execute_result"
    }
   ],
   "source": [
    "def calc_n_of_moles(p, T):\n",
    "  K = calc_K(T)\n",
    "  numerator = (math.sqrt(6912*K)*p) - (108*K*p**2)\n",
    "  denuminator = (27*K*p**2) - 16\n",
    "  y = 2 - math.sqrt((numerator/denuminator)+4)\n",
    "  return y\n",
    "\n",
    "calc_n_of_moles(90, 800)"
   ]
  },
  {
   "cell_type": "markdown",
   "id": "b4cb68c2",
   "metadata": {},
   "source": [
    "# Junk"
   ]
  },
  {
   "cell_type": "code",
   "execution_count": 7,
   "id": "a4b2f983",
   "metadata": {},
   "outputs": [
    {
     "data": {
      "text/plain": [
       "0.0049"
      ]
     },
     "execution_count": 7,
     "metadata": {},
     "output_type": "execute_result"
    }
   ],
   "source": [
    "round((0.0046*0.0046)/(0.0954*0.0454), 4)"
   ]
  },
  {
   "cell_type": "code",
   "execution_count": 8,
   "id": "f56c0386",
   "metadata": {},
   "outputs": [
    {
     "data": {
      "text/plain": [
       "1.0"
      ]
     },
     "execution_count": 8,
     "metadata": {},
     "output_type": "execute_result"
    }
   ],
   "source": [
    "(1**2)/1*1**3"
   ]
  },
  {
   "cell_type": "code",
   "execution_count": 12,
   "id": "b65e9ae2",
   "metadata": {},
   "outputs": [
    {
     "data": {
      "text/plain": [
       "30.52770972551113"
      ]
     },
     "execution_count": 12,
     "metadata": {},
     "output_type": "execute_result"
    }
   ],
   "source": [
    "math.log(18114063211264.973)"
   ]
  },
  {
   "cell_type": "code",
   "execution_count": null,
   "id": "1eec2e73",
   "metadata": {},
   "outputs": [],
   "source": []
  }
 ],
 "metadata": {
  "kernelspec": {
   "display_name": "Python 3 (ipykernel)",
   "language": "python",
   "name": "python3"
  },
  "language_info": {
   "codemirror_mode": {
    "name": "ipython",
    "version": 3
   },
   "file_extension": ".py",
   "mimetype": "text/x-python",
   "name": "python",
   "nbconvert_exporter": "python",
   "pygments_lexer": "ipython3",
   "version": "3.9.8"
  }
 },
 "nbformat": 4,
 "nbformat_minor": 5
}
