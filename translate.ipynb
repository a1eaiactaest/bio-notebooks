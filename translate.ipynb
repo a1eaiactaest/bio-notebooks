{
 "cells": [
  {
   "cell_type": "code",
   "execution_count": 6,
   "id": "69dd25d7",
   "metadata": {},
   "outputs": [],
   "source": [
    "import itertools"
   ]
  },
  {
   "cell_type": "code",
   "execution_count": 17,
   "id": "be7eed25",
   "metadata": {},
   "outputs": [],
   "source": [
    "mutated_c = 'aagguuccaaccgguuccaauu'\n",
    "mutated_c_case = 'aagguuccaaccccgguuccaauu'\n",
    "c = 'agucacgucau'"
   ]
  },
  {
   "cell_type": "code",
   "execution_count": 18,
   "id": "939eb702",
   "metadata": {},
   "outputs": [],
   "source": [
    "def translation(x):\n",
    "  pass"
   ]
  },
  {
   "cell_type": "code",
   "execution_count": 33,
   "id": "0a961999",
   "metadata": {},
   "outputs": [],
   "source": [
    "# removes repetition of nucleotides in an RNA sequence\n",
    "def demutate(RNA):\n",
    "  RNA = list(RNA.lower())\n",
    "  return ''.join(x for x in RNA[::2])"
   ]
  },
  {
   "cell_type": "code",
   "execution_count": 35,
   "id": "dbe52a48",
   "metadata": {},
   "outputs": [
    {
     "data": {
      "text/plain": [
       "'agucaccgucau'"
      ]
     },
     "execution_count": 35,
     "metadata": {},
     "output_type": "execute_result"
    }
   ],
   "source": [
    "demutate('aagguuccaaccccgguuccaauu')"
   ]
  },
  {
   "cell_type": "code",
   "execution_count": 11,
   "id": "5f080963",
   "metadata": {},
   "outputs": [],
   "source": [
    "def rna2dna(RNA):\n",
    "  RNA = list(RNA.lower())\n",
    "  for i in range(len(RNA)):\n",
    "    if RNA[i] == 'u':\n",
    "      RNA[i] = 't'\n",
    "  return ''.join(RNA)"
   ]
  },
  {
   "cell_type": "code",
   "execution_count": 12,
   "id": "e8ada4cd",
   "metadata": {},
   "outputs": [
    {
     "data": {
      "text/plain": [
       "'agtcacgtcat'"
      ]
     },
     "execution_count": 12,
     "metadata": {},
     "output_type": "execute_result"
    }
   ],
   "source": [
    "rna2dna('agucacgucau')"
   ]
  },
  {
   "cell_type": "code",
   "execution_count": 30,
   "id": "66ab469d",
   "metadata": {},
   "outputs": [
    {
     "data": {
      "text/plain": [
       "'aagguuccaaccccgguuccaauu'"
      ]
     },
     "execution_count": 30,
     "metadata": {},
     "output_type": "execute_result"
    }
   ],
   "source": [
    "''.join(list(itertools.chain.from_iterable([x[::2] for x in mutated_c_case])))"
   ]
  },
  {
   "cell_type": "code",
   "execution_count": 32,
   "id": "eafca0f4",
   "metadata": {},
   "outputs": [
    {
     "data": {
      "text/plain": [
       "['a', 'g', 'u', 'c', 'a', 'c', 'c', 'g', 'u', 'c', 'a', 'u']"
      ]
     },
     "execution_count": 32,
     "metadata": {},
     "output_type": "execute_result"
    }
   ],
   "source": [
    "[x for x in mutated_c_case[::2]]"
   ]
  },
  {
   "cell_type": "code",
   "execution_count": null,
   "id": "ca20d814",
   "metadata": {},
   "outputs": [],
   "source": []
  }
 ],
 "metadata": {
  "kernelspec": {
   "display_name": "Python 3 (ipykernel)",
   "language": "python",
   "name": "python3"
  },
  "language_info": {
   "codemirror_mode": {
    "name": "ipython",
    "version": 3
   },
   "file_extension": ".py",
   "mimetype": "text/x-python",
   "name": "python",
   "nbconvert_exporter": "python",
   "pygments_lexer": "ipython3",
   "version": "3.8.10"
  }
 },
 "nbformat": 4,
 "nbformat_minor": 5
}
