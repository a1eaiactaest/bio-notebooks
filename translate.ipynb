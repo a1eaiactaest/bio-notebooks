{
 "cells": [
  {
   "cell_type": "code",
   "execution_count": 25,
   "id": "be7eed25",
   "metadata": {},
   "outputs": [],
   "source": [
    "mutated_c = 'aagguuccaaccgguuccaauu'\n",
    "mutated_c_case = 'aagguuccaaccccgguuccaauu'\n",
    "c = 'agucaccgucau'"
   ]
  },
  {
   "cell_type": "code",
   "execution_count": 26,
   "id": "939eb702",
   "metadata": {},
   "outputs": [],
   "source": [
    "def translation(x):\n",
    "  pass"
   ]
  },
  {
   "cell_type": "code",
   "execution_count": 27,
   "id": "7d3e0952",
   "metadata": {},
   "outputs": [],
   "source": [
    "# split by 3\n",
    "def codons(RNA):\n",
    "  return [RNA[i:i+3] for i in range(0, len(RNA), 3)]"
   ]
  },
  {
   "cell_type": "code",
   "execution_count": 28,
   "id": "2f1d5a1c",
   "metadata": {},
   "outputs": [
    {
     "data": {
      "text/plain": [
       "['agu', 'cac', 'cgu', 'cau']"
      ]
     },
     "execution_count": 28,
     "metadata": {},
     "output_type": "execute_result"
    }
   ],
   "source": [
    "codons(c)"
   ]
  },
  {
   "cell_type": "code",
   "execution_count": 29,
   "id": "0a961999",
   "metadata": {},
   "outputs": [],
   "source": [
    "# removes repetition of nucleotides in an RNA sequence\n",
    "def demutate(RNA):\n",
    "  RNA = list(RNA.lower())\n",
    "  return ''.join(x for x in RNA[::2])"
   ]
  },
  {
   "cell_type": "code",
   "execution_count": 30,
   "id": "dbe52a48",
   "metadata": {},
   "outputs": [
    {
     "data": {
      "text/plain": [
       "'agucaccgucau'"
      ]
     },
     "execution_count": 30,
     "metadata": {},
     "output_type": "execute_result"
    }
   ],
   "source": [
    "demutate('aagguuccaaccccgguuccaauu')"
   ]
  },
  {
   "cell_type": "code",
   "execution_count": 31,
   "id": "5f080963",
   "metadata": {},
   "outputs": [],
   "source": [
    "def rna2dna(RNA):\n",
    "  RNA = RNA.lower()\n",
    "  return RNA.replace('u','t')"
   ]
  },
  {
   "cell_type": "code",
   "execution_count": 32,
   "id": "bde03db5",
   "metadata": {},
   "outputs": [
    {
     "data": {
      "text/plain": [
       "'agtcaccgtcat'"
      ]
     },
     "execution_count": 32,
     "metadata": {},
     "output_type": "execute_result"
    }
   ],
   "source": [
    "rna2dna(demutate(mutated_c_case))"
   ]
  },
  {
   "cell_type": "code",
   "execution_count": 33,
   "id": "cd6d894d",
   "metadata": {},
   "outputs": [],
   "source": [
    "def mut_RNA2aa(mut_RNA):\n",
    "  return corr_translate(codons(correct_transcribe(mut_RNA)))"
   ]
  },
  {
   "cell_type": "code",
   "execution_count": 37,
   "id": "9b5b91fd",
   "metadata": {},
   "outputs": [
    {
     "data": {
      "text/plain": [
       "'aggcgaccccu'"
      ]
     },
     "execution_count": 37,
     "metadata": {},
     "output_type": "execute_result"
    }
   ],
   "source": [
    "demutate('aaggggccggaaccccccccuu')"
   ]
  },
  {
   "cell_type": "code",
   "execution_count": 35,
   "id": "2a1f6e14",
   "metadata": {},
   "outputs": [
    {
     "data": {
      "text/plain": [
       "['agg', 'cga', 'ccc', 'cu']"
      ]
     },
     "execution_count": 35,
     "metadata": {},
     "output_type": "execute_result"
    }
   ],
   "source": [
    "codons('aggcgaccccu')"
   ]
  },
  {
   "cell_type": "code",
   "execution_count": null,
   "id": "04c29c23",
   "metadata": {},
   "outputs": [],
   "source": []
  }
 ],
 "metadata": {
  "kernelspec": {
   "display_name": "Python 3 (ipykernel)",
   "language": "python",
   "name": "python3"
  },
  "language_info": {
   "codemirror_mode": {
    "name": "ipython",
    "version": 3
   },
   "file_extension": ".py",
   "mimetype": "text/x-python",
   "name": "python",
   "nbconvert_exporter": "python",
   "pygments_lexer": "ipython3",
   "version": "3.8.10"
  }
 },
 "nbformat": 4,
 "nbformat_minor": 5
}
