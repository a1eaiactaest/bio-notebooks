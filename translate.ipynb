{
 "cells": [
  {
   "cell_type": "code",
   "execution_count": 25,
   "id": "be7eed25",
   "metadata": {},
   "outputs": [],
   "source": [
    "mutated_c = 'aagguuccaaccgguuccaauu'\n",
    "mutated_c_case = 'aagguuccaaccccgguuccaauu'\n",
    "c = 'agucaccgucau'"
   ]
  },
  {
   "cell_type": "code",
   "execution_count": 88,
   "id": "0e350401",
   "metadata": {},
   "outputs": [
    {
     "name": "stdout",
     "output_type": "stream",
     "text": [
      "A ['GCU', 'GCC', 'GCA']\n",
      "L ['UUA', 'UUG', 'CUU', 'CUC', 'CUA']\n",
      "R ['CGU', 'CGC', 'CGA', 'CGG', 'AGA']\n",
      "K ['AAA']\n",
      "N ['AAU']\n",
      "M ['AUG']\n",
      "D ['GAU']\n",
      "F ['UUU']\n",
      "C ['UGU']\n",
      "P ['CCU', 'CCC', 'CCA']\n",
      "Q ['CAA']\n",
      "S ['UCU', 'UCC', 'UCA', 'UCG']\n",
      "E ['GAA']\n",
      "T ['ACU', 'ACC', 'ACA']\n",
      "G ['GGU', 'GGC', 'GGA']\n",
      "W ['UGG']\n",
      "H ['CAU']\n",
      "Y ['UAU']\n",
      "I ['AUU', 'AUC']\n",
      "V ['GUU', 'GUC', 'GUA']\n",
      "Stop ['UAG', 'UGA']\n",
      "Start ['AUG']\n"
     ]
    }
   ],
   "source": [
    "ct = \"\"\"Ala A GCU, GCC, GCA, GCG  \n",
    "Leu L UUA, UUG, CUU, CUC, CUA, CUG\n",
    "Arg R CGU, CGC, CGA, CGG, AGA, AGG  \n",
    "Lys K AAA, AAG\n",
    "Asn N AAU, AAC  \n",
    "Met M AUG\n",
    "Asp D GAU, GAC  \n",
    "Phe F UUU, UUC\n",
    "Cys C UGU, UGC  \n",
    "Pro P CCU, CCC, CCA, CCG\n",
    "Gln Q CAA, CAG  \n",
    "Ser S UCU, UCC, UCA, UCG, AGU,AGC\n",
    "Glu E GAA, GAG  \n",
    "Thr T ACU, ACC, ACA, ACG\n",
    "Gly G GGU, GGC, GGA, GGG  \n",
    "Trp W UGG\n",
    "His H CAU, CAC  \n",
    "Tyr Y UAU, UAC\n",
    "Ile I AUU, AUC, AUA \n",
    "Val V GUU, GUC, GUA, GUG\n",
    "- Stop UAG, UGA, UAA\n",
    "- Start AUG\n",
    "\"\"\".strip()\n",
    "aa = [] # amino acids\n",
    "codons = [] # RNA codons\n",
    "for c in ct.split('\\n'):\n",
    "  c = c.strip().split(' ')\n",
    "  k = c[1]\n",
    "  if len(c) == 3:\n",
    "    v = [c[-1]]\n",
    "  else:\n",
    "    v = c[2:-1]\n",
    "    for acid in range(len(v)):\n",
    "      v[acid] = v[acid].replace(',','')\n",
    "  aa.append(k)\n",
    "  codons.append(v)\n",
    "  print(k,v)\n"
   ]
  },
  {
   "cell_type": "code",
   "execution_count": 26,
   "id": "939eb702",
   "metadata": {},
   "outputs": [],
   "source": [
    "def translation(x):\n",
    "  pass"
   ]
  },
  {
   "cell_type": "code",
   "execution_count": 27,
   "id": "346ac38b",
   "metadata": {},
   "outputs": [],
   "source": [
    "# split by 3\n",
    "def codons(RNA):\n",
    "  return [RNA[i:i+3] for i in range(0, len(RNA), 3)]"
   ]
  },
  {
   "cell_type": "code",
   "execution_count": 28,
   "id": "604c2b38",
   "metadata": {},
   "outputs": [
    {
     "data": {
      "text/plain": [
       "['agu', 'cac', 'cgu', 'cau']"
      ]
     },
     "execution_count": 28,
     "metadata": {},
     "output_type": "execute_result"
    }
   ],
   "source": [
    "codons(c)"
   ]
  },
  {
   "cell_type": "code",
   "execution_count": 29,
   "id": "0a961999",
   "metadata": {},
   "outputs": [],
   "source": [
    "# removes repetition of nucleotides in an RNA sequence\n",
    "def demutate(RNA):\n",
    "  RNA = list(RNA.lower())\n",
    "  return ''.join(x for x in RNA[::2])"
   ]
  },
  {
   "cell_type": "code",
   "execution_count": 30,
   "id": "dbe52a48",
   "metadata": {},
   "outputs": [
    {
     "data": {
      "text/plain": [
       "'agucaccgucau'"
      ]
     },
     "execution_count": 30,
     "metadata": {},
     "output_type": "execute_result"
    }
   ],
   "source": [
    "demutate('aagguuccaaccccgguuccaauu')"
   ]
  },
  {
   "cell_type": "code",
   "execution_count": 31,
   "id": "5f080963",
   "metadata": {},
   "outputs": [],
   "source": [
    "def rna2dna(RNA):\n",
    "  RNA = RNA.lower()\n",
    "  return RNA.replace('u','t')"
   ]
  },
  {
   "cell_type": "code",
   "execution_count": 32,
   "id": "8a365ec2",
   "metadata": {},
   "outputs": [
    {
     "data": {
      "text/plain": [
       "'agtcaccgtcat'"
      ]
     },
     "execution_count": 32,
     "metadata": {},
     "output_type": "execute_result"
    }
   ],
   "source": [
    "rna2dna(demutate(mutated_c_case))"
   ]
  },
  {
   "cell_type": "code",
   "execution_count": 33,
   "id": "4649ad51",
   "metadata": {},
   "outputs": [],
   "source": [
    "def mut_RNA2aa(mut_RNA):\n",
    "  return corr_translate(codons(correct_transcribe(mut_RNA)))"
   ]
  },
  {
   "cell_type": "code",
   "execution_count": 37,
   "id": "3dcfa01b",
   "metadata": {},
   "outputs": [
    {
     "data": {
      "text/plain": [
       "'aggcgaccccu'"
      ]
     },
     "execution_count": 37,
     "metadata": {},
     "output_type": "execute_result"
    }
   ],
   "source": [
    "demutate('aaggggccggaaccccccccuu')"
   ]
  },
  {
   "cell_type": "code",
   "execution_count": 35,
   "id": "678b2b9e",
   "metadata": {},
   "outputs": [
    {
     "data": {
      "text/plain": [
       "['agg', 'cga', 'ccc', 'cu']"
      ]
     },
     "execution_count": 35,
     "metadata": {},
     "output_type": "execute_result"
    }
   ],
   "source": [
    "codons('aggcgaccccu')"
   ]
  },
  {
   "cell_type": "code",
   "execution_count": null,
   "id": "6312ddaa",
   "metadata": {},
   "outputs": [],
   "source": []
  }
 ],
 "metadata": {
  "kernelspec": {
   "display_name": "Python 3 (ipykernel)",
   "language": "python",
   "name": "python3"
  },
  "language_info": {
   "codemirror_mode": {
    "name": "ipython",
    "version": 3
   },
   "file_extension": ".py",
   "mimetype": "text/x-python",
   "name": "python",
   "nbconvert_exporter": "python",
   "pygments_lexer": "ipython3",
   "version": "3.8.10"
  }
 },
 "nbformat": 4,
 "nbformat_minor": 5
}
