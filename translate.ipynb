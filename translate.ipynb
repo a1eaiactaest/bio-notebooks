{
 "cells": [
  {
   "cell_type": "code",
   "execution_count": 1,
   "id": "be7eed25",
   "metadata": {},
   "outputs": [],
   "source": [
    "mutated_c = 'aagguuccaaccgguuccaauu'\n",
    "mutated_c_case = 'aagguuccaaccccgguuccaauu'\n",
    "c = 'agucaccgucau'"
   ]
  },
  {
   "cell_type": "code",
   "execution_count": 37,
   "id": "f4420338",
   "metadata": {
    "scrolled": true
   },
   "outputs": [
    {
     "data": {
      "text/plain": [
       "{'gcu': 'A',\n",
       " 'gcc': 'A',\n",
       " 'gca': 'A',\n",
       " 'gcg': 'A',\n",
       " 'uua': 'L',\n",
       " 'uug': 'L',\n",
       " 'cuu': 'L',\n",
       " 'cuc': 'L',\n",
       " 'cua': 'L',\n",
       " 'cug': 'L',\n",
       " 'cgu': 'R',\n",
       " 'cgc': 'R',\n",
       " 'cga': 'R',\n",
       " 'cgg': 'R',\n",
       " 'aga': 'R',\n",
       " 'agg': 'R',\n",
       " 'aaa': 'K',\n",
       " 'aag': 'K',\n",
       " 'aau': 'N',\n",
       " 'aac': 'N',\n",
       " 'aug': 'Start',\n",
       " 'gau': 'D',\n",
       " 'gac': 'D',\n",
       " 'uuu': 'F',\n",
       " 'uuc': 'F',\n",
       " 'ugu': 'C',\n",
       " 'ugc': 'C',\n",
       " 'ccu': 'P',\n",
       " 'ccc': 'P',\n",
       " 'cca': 'P',\n",
       " 'ccg': 'P',\n",
       " 'caa': 'Q',\n",
       " 'cag': 'Q',\n",
       " 'ucu': 'S',\n",
       " 'ucc': 'S',\n",
       " 'uca': 'S',\n",
       " 'ucg': 'S',\n",
       " 'agu': 'S',\n",
       " 'agc': 'S',\n",
       " 'gaa': 'E',\n",
       " 'gag': 'E',\n",
       " 'acu': 'T',\n",
       " 'acc': 'T',\n",
       " 'aca': 'T',\n",
       " 'acg': 'T',\n",
       " 'ggu': 'G',\n",
       " 'ggc': 'G',\n",
       " 'gga': 'G',\n",
       " 'ggg': 'G',\n",
       " 'ugg': 'W',\n",
       " 'cau': 'H',\n",
       " 'cac': 'H',\n",
       " 'uau': 'Y',\n",
       " 'uac': 'Y',\n",
       " 'auu': 'I',\n",
       " 'auc': 'I',\n",
       " 'aua': 'I',\n",
       " 'guu': 'V',\n",
       " 'guc': 'V',\n",
       " 'gua': 'V',\n",
       " 'gug': 'V',\n",
       " 'uag': 'Stop',\n",
       " 'uga': 'Stop',\n",
       " 'uaa': 'Stop'}"
      ]
     },
     "execution_count": 37,
     "metadata": {},
     "output_type": "execute_result"
    }
   ],
   "source": [
    "# RNA codons table\n",
    "ct = \"\"\"Ala A GCU, GCC, GCA, GCG  \n",
    "Leu L UUA, UUG, CUU, CUC, CUA, CUG\n",
    "Arg R CGU, CGC, CGA, CGG, AGA, AGG  \n",
    "Lys K AAA, AAG\n",
    "Asn N AAU, AAC  \n",
    "Met M AUG\n",
    "Asp D GAU, GAC  \n",
    "Phe F UUU, UUC\n",
    "Cys C UGU, UGC  \n",
    "Pro P CCU, CCC, CCA, CCG\n",
    "Gln Q CAA, CAG  \n",
    "Ser S UCU, UCC, UCA, UCG, AGU, AGC\n",
    "Glu E GAA, GAG  \n",
    "Thr T ACU, ACC, ACA, ACG\n",
    "Gly G GGU, GGC, GGA, GGG  \n",
    "Trp W UGG\n",
    "His H CAU, CAC  \n",
    "Tyr Y UAU, UAC\n",
    "Ile I AUU, AUC, AUA \n",
    "Val V GUU, GUC, GUA, GUG\n",
    "- Stop UAG, UGA, UAA\n",
    "- Start AUG\n",
    "\"\"\".strip()\n",
    "dic = {} \n",
    "for c in ct.split('\\n'):\n",
    "  c = c.strip().split(' ')\n",
    "  k = c[1]\n",
    "  if len(c) == 3:\n",
    "    v = [c[-1].lower()]\n",
    "  else:\n",
    "    v = c[2:len(c)]\n",
    "    for acid in range(len(v)):\n",
    "      v[acid] = v[acid].replace(',','').lower()\n",
    "  for vv in v:\n",
    "    dic[vv] = k\n",
    "  \n",
    "dic"
   ]
  },
  {
   "cell_type": "code",
   "execution_count": 41,
   "id": "939eb702",
   "metadata": {},
   "outputs": [],
   "source": [
    "def translation(RNA):\n",
    "  aa = []\n",
    "  for codon in codons(RNA):\n",
    "    aa.append(dic[codon])\n",
    "  return ''.join(aa)"
   ]
  },
  {
   "cell_type": "code",
   "execution_count": 42,
   "id": "e1ec1464",
   "metadata": {},
   "outputs": [
    {
     "data": {
      "text/plain": [
       "'SHRH'"
      ]
     },
     "execution_count": 42,
     "metadata": {},
     "output_type": "execute_result"
    }
   ],
   "source": [
    "translation('agucaccgucau')"
   ]
  },
  {
   "cell_type": "code",
   "execution_count": 13,
   "id": "5d554765",
   "metadata": {},
   "outputs": [],
   "source": [
    "# split by 3\n",
    "def codons(RNA):\n",
    "  return [RNA[i:i+3] for i in range(0, len(RNA), 3)]"
   ]
  },
  {
   "cell_type": "code",
   "execution_count": 28,
   "id": "73f41bbf",
   "metadata": {},
   "outputs": [
    {
     "data": {
      "text/plain": [
       "['agu', 'cac', 'cgu', 'cau']"
      ]
     },
     "execution_count": 28,
     "metadata": {},
     "output_type": "execute_result"
    }
   ],
   "source": [
    "codons(c)"
   ]
  },
  {
   "cell_type": "code",
   "execution_count": 29,
   "id": "0a961999",
   "metadata": {},
   "outputs": [],
   "source": [
    "# removes repetition of nucleotides in an RNA sequence\n",
    "def demutate(RNA):\n",
    "  RNA = list(RNA.lower())\n",
    "  return ''.join(x for x in RNA[::2])"
   ]
  },
  {
   "cell_type": "code",
   "execution_count": 30,
   "id": "dbe52a48",
   "metadata": {},
   "outputs": [
    {
     "data": {
      "text/plain": [
       "'agucaccgucau'"
      ]
     },
     "execution_count": 30,
     "metadata": {},
     "output_type": "execute_result"
    }
   ],
   "source": [
    "demutate('aagguuccaaccccgguuccaauu')"
   ]
  },
  {
   "cell_type": "code",
   "execution_count": 31,
   "id": "5f080963",
   "metadata": {},
   "outputs": [],
   "source": [
    "def rna2dna(RNA):\n",
    "  RNA = RNA.lower()\n",
    "  return RNA.replace('u','t')"
   ]
  },
  {
   "cell_type": "code",
   "execution_count": 32,
   "id": "ad812d20",
   "metadata": {},
   "outputs": [
    {
     "data": {
      "text/plain": [
       "'agtcaccgtcat'"
      ]
     },
     "execution_count": 32,
     "metadata": {},
     "output_type": "execute_result"
    }
   ],
   "source": [
    "rna2dna(demutate(mutated_c_case))"
   ]
  },
  {
   "cell_type": "code",
   "execution_count": 33,
   "id": "c149ae3d",
   "metadata": {},
   "outputs": [],
   "source": [
    "def mut_RNA2aa(mut_RNA):\n",
    "  return corr_translate(codons(correct_transcribe(mut_RNA)))"
   ]
  },
  {
   "cell_type": "code",
   "execution_count": 37,
   "id": "a5a35803",
   "metadata": {},
   "outputs": [
    {
     "data": {
      "text/plain": [
       "'aggcgaccccu'"
      ]
     },
     "execution_count": 37,
     "metadata": {},
     "output_type": "execute_result"
    }
   ],
   "source": [
    "demutate('aaggggccggaaccccccccuu')"
   ]
  },
  {
   "cell_type": "code",
   "execution_count": 35,
   "id": "d50f0b62",
   "metadata": {},
   "outputs": [
    {
     "data": {
      "text/plain": [
       "['agg', 'cga', 'ccc', 'cu']"
      ]
     },
     "execution_count": 35,
     "metadata": {},
     "output_type": "execute_result"
    }
   ],
   "source": [
    "codons('aggcgaccccu')"
   ]
  },
  {
   "cell_type": "code",
   "execution_count": null,
   "id": "d82e7e51",
   "metadata": {},
   "outputs": [],
   "source": []
  }
 ],
 "metadata": {
  "kernelspec": {
   "display_name": "Python 3 (ipykernel)",
   "language": "python",
   "name": "python3"
  },
  "language_info": {
   "codemirror_mode": {
    "name": "ipython",
    "version": 3
   },
   "file_extension": ".py",
   "mimetype": "text/x-python",
   "name": "python",
   "nbconvert_exporter": "python",
   "pygments_lexer": "ipython3",
   "version": "3.8.10"
  }
 },
 "nbformat": 4,
 "nbformat_minor": 5
}
