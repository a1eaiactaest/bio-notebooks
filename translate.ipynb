{
 "cells": [
  {
   "cell_type": "code",
   "execution_count": 2,
   "id": "be7eed25",
   "metadata": {},
   "outputs": [],
   "source": [
    "mutated_c = 'aagguuccaaccgguuccaauu'\n",
    "mutated_c_case = 'aagguuccaaccccgguuccaauu'\n",
    "c = 'agucacgucau'"
   ]
  },
  {
   "cell_type": "code",
   "execution_count": 3,
   "id": "939eb702",
   "metadata": {},
   "outputs": [],
   "source": [
    "def translation(x):\n",
    "  pass"
   ]
  },
  {
   "cell_type": "code",
   "execution_count": 4,
   "id": "a6b9be07",
   "metadata": {},
   "outputs": [],
   "source": [
    "# split by 3\n",
    "def cordons(RNA):\n",
    "  return [RNA[i:i+3] for i in range(0, len(RNA), 3)]"
   ]
  },
  {
   "cell_type": "code",
   "execution_count": 5,
   "id": "0a961999",
   "metadata": {},
   "outputs": [],
   "source": [
    "# removes repetition of nucleotides in an RNA sequence\n",
    "def demutate(RNA):\n",
    "  RNA = list(RNA.lower())\n",
    "  return ''.join(x for x in RNA[::2])"
   ]
  },
  {
   "cell_type": "code",
   "execution_count": 6,
   "id": "dbe52a48",
   "metadata": {},
   "outputs": [
    {
     "data": {
      "text/plain": [
       "'agucaccgucau'"
      ]
     },
     "execution_count": 6,
     "metadata": {},
     "output_type": "execute_result"
    }
   ],
   "source": [
    "demutate('aagguuccaaccccgguuccaauu')"
   ]
  },
  {
   "cell_type": "code",
   "execution_count": 18,
   "id": "5f080963",
   "metadata": {},
   "outputs": [],
   "source": [
    "def rna2dna(RNA):\n",
    "  RNA = list(RNA.lower())\n",
    "  ret = list(map(lambda x: ('t' if(x=='u') else x), RNA))\n",
    "  return ''.join(ret)"
   ]
  },
  {
   "cell_type": "code",
   "execution_count": 19,
   "id": "ed0da5b5",
   "metadata": {},
   "outputs": [
    {
     "data": {
      "text/plain": [
       "'agtcaccgtcat'"
      ]
     },
     "execution_count": 19,
     "metadata": {},
     "output_type": "execute_result"
    }
   ],
   "source": [
    "rna2dna(demutate(mutated_c_case))"
   ]
  },
  {
   "cell_type": "code",
   "execution_count": null,
   "id": "9dcad33a",
   "metadata": {},
   "outputs": [],
   "source": []
  }
 ],
 "metadata": {
  "kernelspec": {
   "display_name": "Python 3 (ipykernel)",
   "language": "python",
   "name": "python3"
  },
  "language_info": {
   "codemirror_mode": {
    "name": "ipython",
    "version": 3
   },
   "file_extension": ".py",
   "mimetype": "text/x-python",
   "name": "python",
   "nbconvert_exporter": "python",
   "pygments_lexer": "ipython3",
   "version": "3.8.10"
  }
 },
 "nbformat": 4,
 "nbformat_minor": 5
}
