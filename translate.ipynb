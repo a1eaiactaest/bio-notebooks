{
 "cells": [
  {
   "cell_type": "code",
   "execution_count": 6,
   "id": "951c662b",
   "metadata": {},
   "outputs": [],
   "source": [
    "import itertools"
   ]
  },
  {
   "cell_type": "code",
   "execution_count": 17,
   "id": "be7eed25",
   "metadata": {},
   "outputs": [],
   "source": [
    "mutated_c = 'aagguuccaaccgguuccaauu'\n",
    "mutated_c_case = 'aagguuccaaccccgguuccaauu'\n",
    "c = 'agucacgucau'"
   ]
  },
  {
   "cell_type": "code",
   "execution_count": 18,
   "id": "939eb702",
   "metadata": {},
   "outputs": [],
   "source": [
    "def translation(x):\n",
    "  pass"
   ]
  },
  {
   "cell_type": "code",
   "execution_count": 3,
   "id": "0a961999",
   "metadata": {},
   "outputs": [],
   "source": [
    "# removes repetition of nucleotides in an RNA sequence\n",
    "def demutate(RNA):\n",
    "  RNA = list(RNA.lower())\n",
    "  for i in range(len(RNA)-1, 0, -1):\n",
    "    if RNA[i] == RNA[i-1]:\n",
    "      RNA.pop(i-1)\n",
    "  return ''.join(RNA)"
   ]
  },
  {
   "cell_type": "code",
   "execution_count": 4,
   "id": "dbe52a48",
   "metadata": {},
   "outputs": [
    {
     "data": {
      "text/plain": [
       "'agucacgucau'"
      ]
     },
     "execution_count": 4,
     "metadata": {},
     "output_type": "execute_result"
    }
   ],
   "source": [
    "demutate('aagguuccaacccccgguuccaauu')"
   ]
  },
  {
   "cell_type": "code",
   "execution_count": 11,
   "id": "5f080963",
   "metadata": {},
   "outputs": [],
   "source": [
    "def rna2dna(RNA):\n",
    "  RNA = list(RNA.lower())\n",
    "  for i in range(len(RNA)):\n",
    "    if RNA[i] == 'u':\n",
    "      RNA[i] = 't'\n",
    "  return ''.join(RNA)"
   ]
  },
  {
   "cell_type": "code",
   "execution_count": 12,
   "id": "e8ada4cd",
   "metadata": {},
   "outputs": [
    {
     "data": {
      "text/plain": [
       "'agtcacgtcat'"
      ]
     },
     "execution_count": 12,
     "metadata": {},
     "output_type": "execute_result"
    }
   ],
   "source": [
    "rna2dna('agucacgucau')"
   ]
  },
  {
   "cell_type": "code",
   "execution_count": 16,
   "id": "2122d80b",
   "metadata": {},
   "outputs": [
    {
     "data": {
      "text/plain": [
       "[['a', 'a'],\n",
       " ['g', 'g'],\n",
       " ['u', 'u'],\n",
       " ['c', 'c'],\n",
       " ['a', 'a'],\n",
       " ['c', 'c'],\n",
       " ['g', 'g'],\n",
       " ['u', 'u'],\n",
       " ['c', 'c'],\n",
       " ['a', 'a'],\n",
       " ['u', 'u']]"
      ]
     },
     "execution_count": 16,
     "metadata": {},
     "output_type": "execute_result"
    }
   ],
   "source": [
    "[list(g) for k, g in itertools.groupby(mutated_c)]"
   ]
  },
  {
   "cell_type": "code",
   "execution_count": null,
   "id": "e8041757",
   "metadata": {},
   "outputs": [],
   "source": []
  }
 ],
 "metadata": {
  "kernelspec": {
   "display_name": "Python 3 (ipykernel)",
   "language": "python",
   "name": "python3"
  },
  "language_info": {
   "codemirror_mode": {
    "name": "ipython",
    "version": 3
   },
   "file_extension": ".py",
   "mimetype": "text/x-python",
   "name": "python",
   "nbconvert_exporter": "python",
   "pygments_lexer": "ipython3",
   "version": "3.8.10"
  }
 },
 "nbformat": 4,
 "nbformat_minor": 5
}
