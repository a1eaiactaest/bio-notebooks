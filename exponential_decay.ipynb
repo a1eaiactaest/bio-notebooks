{
 "cells": [
  {
   "cell_type": "code",
   "execution_count": 52,
   "id": "002017b5",
   "metadata": {},
   "outputs": [],
   "source": [
    "import numpy as np\n",
    "import matplotlib.pyplot as plt\n",
    "import pandas as pd\n",
    "import math\n",
    "import random as rd\n",
    "import scipy.optimize\n",
    "\n",
    "%matplotlib inline"
   ]
  },
  {
   "cell_type": "code",
   "execution_count": 48,
   "id": "a7faf555",
   "metadata": {},
   "outputs": [],
   "source": [
    "to = [_ for _ in range(20)]\n",
    "t_df = pd.DataFrame(data=to)\n",
    "t = t_df[0].to_numpy()"
   ]
  },
  {
   "cell_type": "code",
   "execution_count": 61,
   "id": "db177e73",
   "metadata": {},
   "outputs": [],
   "source": [
    "no = [800., \n",
    "      723.86993443, \n",
    "      654.98460246, \n",
    "      592.65457655, \n",
    "      536.25603683, \n",
    "      485.22452777,\n",
    "      439.04930888,\n",
    "      397.26824303,\n",
    "      359.46317129,\n",
    "      325.25572779,\n",
    "      294.30355294,\n",
    "      266.29686696,\n",
    "      240.95536953,\n",
    "      218.02543443,\n",
    "      197.27757115,\n",
    "      178.50412812,\n",
    "      161.5172144,\n",
    "      146.14681924,\n",
    "      132.23911058,\n",
    "      119.65489538]\n",
    "n_df = pd.DataFrame(data=no)\n",
    "n = n_df[0].to_numpy()"
   ]
  },
  {
   "cell_type": "code",
   "execution_count": 49,
   "id": "c3f6002c",
   "metadata": {},
   "outputs": [],
   "source": [
    "# 1A\n",
    "def fit_exp(t, N_0, k):\n",
    "  return N_0*np.exp(-k*t)"
   ]
  },
  {
   "cell_type": "code",
   "execution_count": 50,
   "id": "c6726275",
   "metadata": {},
   "outputs": [
    {
     "name": "stdout",
     "output_type": "stream",
     "text": [
      "[300.         271.45122541 245.61922592 222.2454662  201.09601381\n",
      " 181.95919791 164.64349083 148.97559114 134.79868924 121.97089792\n",
      " 110.36383235  99.86132511  90.35826357  81.75953791  73.97908918\n",
      "  66.93904804  60.5689554   54.80505722  49.58966647  44.87058577]\n"
     ]
    },
    {
     "data": {
      "text/plain": [
       "<matplotlib.collections.PathCollection at 0x12f5b64c0>"
      ]
     },
     "execution_count": 50,
     "metadata": {},
     "output_type": "execute_result"
    },
    {
     "data": {
      "image/png": "[encoded data removed]",
      "text/plain": [
       "<Figure size 432x288 with 1 Axes>"
      ]
     },
     "metadata": {
      "needs_background": "light"
     },
     "output_type": "display_data"
    }
   ],
   "source": [
    "exp_function = fit_exp(tn, 300, 0.1)\n",
    "print(exp_function)\n",
    "plt.scatter(tn,exp_function)"
   ]
  },
  {
   "cell_type": "code",
   "execution_count": null,
   "id": "d23f722e",
   "metadata": {},
   "outputs": [],
   "source": [
    "#1B"
   ]
  },
  {
   "cell_type": "code",
   "execution_count": 51,
   "id": "c344699e",
   "metadata": {},
   "outputs": [],
   "source": [
    "initial_guess = [400,0.1]"
   ]
  },
  {
   "cell_type": "code",
   "execution_count": 65,
   "id": "0e41d186",
   "metadata": {},
   "outputs": [
    {
     "name": "stdout",
     "output_type": "stream",
     "text": [
      "[8.e+02 1.e-01] [[2.9071647e-18 4.3665547e-22]\n",
      " [4.3665547e-22 1.3172879e-25]]\n"
     ]
    }
   ],
   "source": [
    "parameters, covariance = scipy.optimize.curve_fit(fit_exp, t, n, initial_guess)\n",
    "print(parameters, covariance, end='\\n')"
   ]
  },
  {
   "cell_type": "code",
   "execution_count": null,
   "id": "37458c22",
   "metadata": {},
   "outputs": [],
   "source": [
    "# Test above\n",
    "try:\n",
    "  assert parameters.any()\n",
    "  assert covarianve.any()\n",
    "  "
   ]
  }
 ],
 "metadata": {
  "kernelspec": {
   "display_name": "Python 3 (ipykernel)",
   "language": "python",
   "name": "python3"
  },
  "language_info": {
   "codemirror_mode": {
    "name": "ipython",
    "version": 3
   },
   "file_extension": ".py",
   "mimetype": "text/x-python",
   "name": "python",
   "nbconvert_exporter": "python",
   "pygments_lexer": "ipython3",
   "version": "3.9.7"
  }
 },
 "nbformat": 4,
 "nbformat_minor": 5
}
