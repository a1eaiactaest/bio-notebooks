{
 "cells": [
  {
   "cell_type": "code",
   "execution_count": 65,
   "id": "d3fe53b7",
   "metadata": {},
   "outputs": [],
   "source": [
    "import numpy as np\n",
    "import matplotlib\n",
    "import matplotlib.pyplot as plt\n",
    "import pandas as pd\n",
    "import math\n",
    "import random as rd\n",
    "import scipy.optimize\n",
    "from scipy.stats import linregress\n",
    "\n",
    "%matplotlib inline"
   ]
  },
  {
   "cell_type": "code",
   "execution_count": 6,
   "id": "6d6dc944",
   "metadata": {},
   "outputs": [],
   "source": [
    "to = [_ for _ in range(20)]\n",
    "t_df = pd.DataFrame(data=to)\n",
    "tn = t_df[0].to_numpy()"
   ]
  },
  {
   "cell_type": "code",
   "execution_count": 3,
   "id": "beecb008",
   "metadata": {},
   "outputs": [],
   "source": [
    "no = [800., \n",
    "      723.86993443, \n",
    "      654.98460246, \n",
    "      592.65457655, \n",
    "      536.25603683, \n",
    "      485.22452777,\n",
    "      439.04930888,\n",
    "      397.26824303,\n",
    "      359.46317129,\n",
    "      325.25572779,\n",
    "      294.30355294,\n",
    "      266.29686696,\n",
    "      240.95536953,\n",
    "      218.02543443,\n",
    "      197.27757115,\n",
    "      178.50412812,\n",
    "      161.5172144,\n",
    "      146.14681924,\n",
    "      132.23911058,\n",
    "      119.65489538]\n",
    "n_df = pd.DataFrame(data=no)\n",
    "n = n_df[0].to_numpy()"
   ]
  },
  {
   "cell_type": "code",
   "execution_count": 7,
   "id": "ad8d1b99",
   "metadata": {},
   "outputs": [],
   "source": [
    "# 1A\n",
    "def fit_exp(t, N_0, k):\n",
    "  return N_0*np.exp(-k*t)"
   ]
  },
  {
   "cell_type": "code",
   "execution_count": 8,
   "id": "97654497",
   "metadata": {},
   "outputs": [
    {
     "name": "stdout",
     "output_type": "stream",
     "text": [
      "[300.         271.45122541 245.61922592 222.2454662  201.09601381\n",
      " 181.95919791 164.64349083 148.97559114 134.79868924 121.97089792\n",
      " 110.36383235  99.86132511  90.35826357  81.75953791  73.97908918\n",
      "  66.93904804  60.5689554   54.80505722  49.58966647  44.87058577]\n"
     ]
    },
    {
     "data": {
      "text/plain": [
       "<matplotlib.collections.PathCollection at 0x114211a00>"
      ]
     },
     "execution_count": 8,
     "metadata": {},
     "output_type": "execute_result"
    },
    {
     "data": {
      "image/png": "[encoded data removed]",
      "text/plain": [
       "<Figure size 432x288 with 1 Axes>"
      ]
     },
     "metadata": {
      "needs_background": "light"
     },
     "output_type": "display_data"
    }
   ],
   "source": [
    "exp_function = fit_exp(tn, 300, 0.1)\n",
    "print(exp_function)\n",
    "plt.scatter(tn,exp_function)"
   ]
  },
  {
   "cell_type": "code",
   "execution_count": 9,
   "id": "bac5a102",
   "metadata": {},
   "outputs": [],
   "source": [
    "# 1B"
   ]
  },
  {
   "cell_type": "code",
   "execution_count": 10,
   "id": "76d71082",
   "metadata": {},
   "outputs": [],
   "source": [
    "initial_guess = [400,0.1]"
   ]
  },
  {
   "cell_type": "code",
   "execution_count": 12,
   "id": "83a06ecd",
   "metadata": {},
   "outputs": [],
   "source": [
    "parameters, covariance = scipy.optimize.curve_fit(fit_exp, t, n, initial_guess)"
   ]
  },
  {
   "cell_type": "code",
   "execution_count": 13,
   "id": "a6e04d45",
   "metadata": {},
   "outputs": [
    {
     "name": "stdout",
     "output_type": "stream",
     "text": [
      "[8.e+02 1.e-01] [[2.9071647e-18 4.3665547e-22]\n",
      " [4.3665547e-22 1.3172879e-25]]\n"
     ]
    }
   ],
   "source": [
    "print(parameters, covariance, end='\\n')"
   ]
  },
  {
   "cell_type": "code",
   "execution_count": 14,
   "id": "fc866cce",
   "metadata": {},
   "outputs": [
    {
     "name": "stdout",
     "output_type": "stream",
     "text": [
      "passed\n"
     ]
    }
   ],
   "source": [
    "# Test above\n",
    "try:\n",
    "  assert parameters.any()\n",
    "  assert covariance.any()\n",
    "  print('passed')\n",
    "except NameError:\n",
    "  print('wrong spelling')"
   ]
  },
  {
   "cell_type": "code",
   "execution_count": 15,
   "id": "312fdc5a",
   "metadata": {},
   "outputs": [],
   "source": [
    "N_0 = parameters[0]\n",
    "k = parameters[1]"
   ]
  },
  {
   "cell_type": "code",
   "execution_count": 16,
   "id": "b7e41912",
   "metadata": {},
   "outputs": [
    {
     "name": "stdout",
     "output_type": "stream",
     "text": [
      "passed\n"
     ]
    }
   ],
   "source": [
    "# Test above\n",
    "try:\n",
    "  assert N_0\n",
    "  assert k\n",
    "  print('passed')\n",
    "except NameError:\n",
    "  print('wrong spelling')"
   ]
  },
  {
   "cell_type": "code",
   "execution_count": 17,
   "id": "bbeff253",
   "metadata": {},
   "outputs": [],
   "source": [
    "# 1C\n",
    "fitted_n = fit_exp(t,N_0,k)"
   ]
  },
  {
   "cell_type": "code",
   "execution_count": 18,
   "id": "a87711f0",
   "metadata": {
    "scrolled": true
   },
   "outputs": [
    {
     "data": {
      "text/plain": [
       "array([800.        , 723.86993443, 654.98460246, 592.65457655,\n",
       "       536.25603683, 485.22452777, 439.04930888, 397.26824303,\n",
       "       359.46317129, 325.25572779, 294.30355294, 266.29686696,\n",
       "       240.95536953, 218.02543443, 197.27757115, 178.50412812,\n",
       "       161.5172144 , 146.14681924, 132.23911058, 119.65489538])"
      ]
     },
     "execution_count": 18,
     "metadata": {},
     "output_type": "execute_result"
    }
   ],
   "source": [
    "fitted_n"
   ]
  },
  {
   "cell_type": "code",
   "execution_count": 19,
   "id": "4d642412",
   "metadata": {},
   "outputs": [
    {
     "data": {
      "text/plain": [
       "<AxesSubplot:>"
      ]
     },
     "execution_count": 19,
     "metadata": {},
     "output_type": "execute_result"
    },
    {
     "data": {
      "image/png": "[encoded data removed]",
      "text/plain": [
       "<Figure size 432x288 with 1 Axes>"
      ]
     },
     "metadata": {
      "needs_background": "light"
     },
     "output_type": "display_data"
    }
   ],
   "source": [
    "# 1D\n",
    "def plot_exp(t, n, fitted_n):\n",
    "  plt.scatter(t, n)\n",
    "  plt.plot(t, fitted_n)\n",
    "  return plt.gca()\n",
    "\n",
    "plot_exp(t, n, fitted_n)"
   ]
  },
  {
   "cell_type": "code",
   "execution_count": 20,
   "id": "75323844",
   "metadata": {},
   "outputs": [],
   "source": [
    "# 1E \n",
    "k_new = 0.15"
   ]
  },
  {
   "cell_type": "code",
   "execution_count": 21,
   "id": "3bda285e",
   "metadata": {},
   "outputs": [],
   "source": [
    "def get_half_life(k_new):\n",
    "  ln2 = np.log(2) # euler based logarithm\n",
    "  return ln2/k_new"
   ]
  },
  {
   "cell_type": "code",
   "execution_count": 22,
   "id": "7013e966",
   "metadata": {},
   "outputs": [
    {
     "name": "stdout",
     "output_type": "stream",
     "text": [
      "The half-life is 4.6 s.\n"
     ]
    }
   ],
   "source": [
    "t_half = get_half_life(k_new)\n",
    "print(f'The half-life is {t_half:.2} s.')"
   ]
  },
  {
   "cell_type": "code",
   "execution_count": 138,
   "id": "27d87e1d",
   "metadata": {},
   "outputs": [],
   "source": [
    "k_list = [123, 34, 234]\n",
    "T_list = [34.664245, 23.21523, 34.24234]"
   ]
  },
  {
   "cell_type": "code",
   "execution_count": 139,
   "id": "d156d887",
   "metadata": {},
   "outputs": [
    {
     "data": {
      "text/plain": [
       "array([4.81218436, 3.52636052, 5.45532112])"
      ]
     },
     "execution_count": 139,
     "metadata": {},
     "output_type": "execute_result"
    }
   ],
   "source": [
    "# 2A\n",
    "def log_reaction_rate(k_list):\n",
    "  # take k value in k_list and natural log it.\n",
    "  return np.array(list(map(lambda k: np.log(k), k_list)))\n",
    "  \n",
    "log_k = log_reaction_rate(k_list)\n",
    "log_k"
   ]
  },
  {
   "cell_type": "code",
   "execution_count": 119,
   "id": "ad587ee1",
   "metadata": {},
   "outputs": [
    {
     "name": "stdout",
     "output_type": "stream",
     "text": [
      "passed\n"
     ]
    }
   ],
   "source": [
    "try:\n",
    "  assert log_k.any()\n",
    "  print('passed')\n",
    "except NameError:\n",
    "  print('wrong spelling')"
   ]
  },
  {
   "cell_type": "code",
   "execution_count": 120,
   "id": "11dc9726",
   "metadata": {},
   "outputs": [
    {
     "data": {
      "text/plain": [
       "array([0.0085, 0.0075, 0.0065, 0.0055, 0.0045, 0.0035])"
      ]
     },
     "execution_count": 120,
     "metadata": {},
     "output_type": "execute_result"
    }
   ],
   "source": [
    "def inverse_temp(T_list):\n",
    "  # take T value in T_list and take inverse.\n",
    "  return np.array(list(map(lambda T: 1/T, T_list)))\n",
    "  \n",
    "inv_T = inverse_temp(T_list)\n",
    "inv_T"
   ]
  },
  {
   "cell_type": "code",
   "execution_count": 121,
   "id": "bf2ab3ad",
   "metadata": {},
   "outputs": [
    {
     "name": "stdout",
     "output_type": "stream",
     "text": [
      "passed\n"
     ]
    }
   ],
   "source": [
    "try:\n",
    "  assert inv_T.any()\n",
    "  print('passed')\n",
    "except NameError:\n",
    "  print('wrong spelling')"
   ]
  },
  {
   "cell_type": "code",
   "execution_count": 141,
   "id": "9219e56b",
   "metadata": {},
   "outputs": [],
   "source": [
    "# example data to 2b\n",
    "# https://socratic.org/questions/how-do-you-plot-the-arrhenius-equation#245467\n",
    "#log_k = np.array([-8.62, -5.91, -3.51, -1.35])\n",
    "#inv_T = np.array([0.00133, 0.00126, 0.00118, 0.00112])\n",
    "\n",
    "# https://courses.lumenlearning.com/suny-introductorychemistry/chapter/activation-energy-and-the-arrhenius-equation-2/\n",
    "inv_T = np.array([0.002667, 0.0025, 0.002, 0.001667])\n",
    "log_k = np.array([-10.9941, -10.2602, -7.77526, -6.16107])"
   ]
  },
  {
   "cell_type": "code",
   "execution_count": 142,
   "id": "e469300e",
   "metadata": {},
   "outputs": [
    {
     "name": "stdout",
     "output_type": "stream",
     "text": [
      "LinregressResult(slope=-0.00020549628279175898, intercept=0.00040061408647496075, rvalue=-0.9998928001472069, pvalue=0.00010719985279306067, stderr=2.1278253778302886e-06, intercept_stderr=1.9166834899285404e-05)\n"
     ]
    }
   ],
   "source": [
    "# 2B\n",
    "lin_regression = linregress(log_k, inv_T)\n",
    "print(lin_regression)"
   ]
  },
  {
   "cell_type": "code",
   "execution_count": 143,
   "id": "c23a22fb",
   "metadata": {},
   "outputs": [],
   "source": [
    "slope = lin_regression.slope\n",
    "intercept = lin_regression.intercept"
   ]
  },
  {
   "cell_type": "code",
   "execution_count": 144,
   "id": "07040b57",
   "metadata": {},
   "outputs": [
    {
     "data": {
      "text/plain": [
       "array([0.00040007, 0.0004001 , 0.0004002 , 0.00040027])"
      ]
     },
     "execution_count": 144,
     "metadata": {},
     "output_type": "execute_result"
    }
   ],
   "source": [
    "fit = slope*(inv_T)+intercept\n",
    "fit"
   ]
  },
  {
   "cell_type": "code",
   "execution_count": 145,
   "id": "1640b5c0",
   "metadata": {},
   "outputs": [
    {
     "data": {
      "text/plain": [
       "<AxesSubplot:xlabel='$\\\\frac{1}{T}$', ylabel='${\\\\ln k}$'>"
      ]
     },
     "execution_count": 145,
     "metadata": {},
     "output_type": "execute_result"
    },
    {
     "data": {
      "image/png": "[encoded data removed]",
      "text/plain": [
       "<Figure size 432x288 with 1 Axes>"
      ]
     },
     "metadata": {
      "needs_background": "light"
     },
     "output_type": "display_data"
    }
   ],
   "source": [
    "# 2C\n",
    "def plot_arrhenius(inv_T, log_k, fit):\n",
    "  fig, ax = plt.subplots()\n",
    "  ax.plot(inv_T, log_k)\n",
    "\n",
    "  # set labels\n",
    "  ax.set_xlabel(r'$\\frac{1}{T}$', fontsize=20)\n",
    "  ax.set_ylabel(r'${\\ln k}$', fontsize=20)\n",
    "  return plt.gca()\n",
    "\n",
    "plot_arrhenius(inv_T, log_k, fit)"
   ]
  },
  {
   "cell_type": "code",
   "execution_count": 146,
   "id": "c4838faa",
   "metadata": {
    "scrolled": true
   },
   "outputs": [
    {
     "data": {
      "image/png": "[encoded data removed]",
      "text/plain": [
       "<Figure size 432x288 with 1 Axes>"
      ]
     },
     "metadata": {
      "needs_background": "light"
     },
     "output_type": "display_data"
    }
   ],
   "source": [
    "assert isinstance(plot_arrhenius(inv_T, log_k, fit), matplotlib.figure.Axes), 'wrong return type'"
   ]
  },
  {
   "cell_type": "code",
   "execution_count": 180,
   "id": "0404d841",
   "metadata": {},
   "outputs": [
    {
     "name": "stdout",
     "output_type": "stream",
     "text": [
      "-40460.58589013775\n",
      "Activation energy: -4.0E+04 J mol^-1\n"
     ]
    }
   ],
   "source": [
    "# 2D\n",
    "def get_activation_energy(slope):\n",
    "  R = 8.3145\n",
    "  Ea = (R/slope)\n",
    "  return Ea\n",
    "\n",
    "activation_energy = get_activation_energy(slope)\n",
    "print(f'Activation energy: {activation_energy:.1E} J mol^-1')"
   ]
  },
  {
   "cell_type": "code",
   "execution_count": 181,
   "id": "c6a714e1",
   "metadata": {
    "scrolled": true
   },
   "outputs": [
    {
     "ename": "NotImplementedError",
     "evalue": "",
     "output_type": "error",
     "traceback": [
      "\u001b[0;31m---------------------------------------------------------------------------\u001b[0m",
      "\u001b[0;31mNotImplementedError\u001b[0m                       Traceback (most recent call last)",
      "\u001b[0;32m/var/folders/2_/rbf7p0d56rgc143drwf_kt180000gn/T/ipykernel_51149/2129592871.py\u001b[0m in \u001b[0;36m<module>\u001b[0;34m\u001b[0m\n\u001b[1;32m      3\u001b[0m   \u001b[0;32mraise\u001b[0m \u001b[0mNotImplementedError\u001b[0m\u001b[0;34m(\u001b[0m\u001b[0;34m)\u001b[0m\u001b[0;34m\u001b[0m\u001b[0;34m\u001b[0m\u001b[0m\n\u001b[1;32m      4\u001b[0m \u001b[0;34m\u001b[0m\u001b[0m\n\u001b[0;32m----> 5\u001b[0;31m \u001b[0mpre_exp_factor\u001b[0m \u001b[0;34m=\u001b[0m \u001b[0mget_pre_exp_factor\u001b[0m\u001b[0;34m(\u001b[0m\u001b[0mintercept\u001b[0m\u001b[0;34m)\u001b[0m\u001b[0;34m\u001b[0m\u001b[0;34m\u001b[0m\u001b[0m\n\u001b[0m\u001b[1;32m      6\u001b[0m \u001b[0mprint\u001b[0m\u001b[0;34m(\u001b[0m\u001b[0;34mf'Pre-exponential factor: {pre_exp_factor:.1E} mol^-1 s^-1'\u001b[0m\u001b[0;34m)\u001b[0m\u001b[0;34m\u001b[0m\u001b[0;34m\u001b[0m\u001b[0m\n",
      "\u001b[0;32m/var/folders/2_/rbf7p0d56rgc143drwf_kt180000gn/T/ipykernel_51149/2129592871.py\u001b[0m in \u001b[0;36mget_pre_exp_factor\u001b[0;34m(intercept)\u001b[0m\n\u001b[1;32m      1\u001b[0m \u001b[0;31m# 2E\u001b[0m\u001b[0;34m\u001b[0m\u001b[0;34m\u001b[0m\u001b[0m\n\u001b[1;32m      2\u001b[0m \u001b[0;32mdef\u001b[0m \u001b[0mget_pre_exp_factor\u001b[0m\u001b[0;34m(\u001b[0m\u001b[0mintercept\u001b[0m\u001b[0;34m)\u001b[0m\u001b[0;34m:\u001b[0m\u001b[0;34m\u001b[0m\u001b[0;34m\u001b[0m\u001b[0m\n\u001b[0;32m----> 3\u001b[0;31m   \u001b[0;32mraise\u001b[0m \u001b[0mNotImplementedError\u001b[0m\u001b[0;34m(\u001b[0m\u001b[0;34m)\u001b[0m\u001b[0;34m\u001b[0m\u001b[0;34m\u001b[0m\u001b[0m\n\u001b[0m\u001b[1;32m      4\u001b[0m \u001b[0;34m\u001b[0m\u001b[0m\n\u001b[1;32m      5\u001b[0m \u001b[0mpre_exp_factor\u001b[0m \u001b[0;34m=\u001b[0m \u001b[0mget_pre_exp_factor\u001b[0m\u001b[0;34m(\u001b[0m\u001b[0mintercept\u001b[0m\u001b[0;34m)\u001b[0m\u001b[0;34m\u001b[0m\u001b[0;34m\u001b[0m\u001b[0m\n",
      "\u001b[0;31mNotImplementedError\u001b[0m: "
     ]
    }
   ],
   "source": [
    "# 2E \n",
    "def get_pre_exp_factor(intercept):\n",
    "  raise NotImplementedError()\n",
    "  \n",
    "pre_exp_factor = get_pre_exp_factor(intercept)\n",
    "print(f'Pre-exponential factor: {pre_exp_factor:.1E} mol^-1 s^-1')"
   ]
  },
  {
   "cell_type": "code",
   "execution_count": 196,
   "id": "b27ba322",
   "metadata": {},
   "outputs": [
    {
     "name": "stdout",
     "output_type": "stream",
     "text": [
      "[ 0  1  2  3  4  5  6  7  8  9 10]\n",
      "[  0   0   0   1   1   1   1   4 345  23 234]\n"
     ]
    }
   ],
   "source": [
    "color_intesity = np.arange(11)\n",
    "hue = np.array([0, 0, 0, 1, 1, 1, 1, 4, 345, 23, 234])\n",
    "print(color_intesity)\n",
    "print(hue)"
   ]
  },
  {
   "cell_type": "code",
   "execution_count": 200,
   "id": "63166d44",
   "metadata": {},
   "outputs": [],
   "source": [
    "# 2F\n",
    "\n",
    "from scipy.stats import pearsonr # ADD THIS!\n",
    "r_value, _  = pearsonr(color_intesity, hue)"
   ]
  },
  {
   "cell_type": "code",
   "execution_count": null,
   "id": "de351c7f",
   "metadata": {},
   "outputs": [],
   "source": []
  }
 ],
 "metadata": {
  "kernelspec": {
   "display_name": "Python 3 (ipykernel)",
   "language": "python",
   "name": "python3"
  },
  "language_info": {
   "codemirror_mode": {
    "name": "ipython",
    "version": 3
   },
   "file_extension": ".py",
   "mimetype": "text/x-python",
   "name": "python",
   "nbconvert_exporter": "python",
   "pygments_lexer": "ipython3",
   "version": "3.9.7"
  }
 },
 "nbformat": 4,
 "nbformat_minor": 5
}
